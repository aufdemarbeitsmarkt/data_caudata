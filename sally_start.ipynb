{
 "cells": [
  {
   "cell_type": "code",
   "execution_count": 14,
   "id": "cf3b26e5-ac4f-43d7-9621-834ebd7e8cd3",
   "metadata": {},
   "outputs": [],
   "source": [
    "from datetime import datetime\n",
    "\n",
    "import json\n",
    "import pandas as pd\n",
    "import requests"
   ]
  },
  {
   "cell_type": "code",
   "execution_count": 15,
   "id": "94c86163-be87-4631-ba3f-d2694d8bde88",
   "metadata": {},
   "outputs": [],
   "source": [
    "BASE_URL = 'https://api.inaturalist.org/v1/observations'\n",
    "\n",
    "OREGON_PLACE_ID = 10\n",
    "WASHINGTON_PLACE_ID = 46\n",
    "\n",
    "CAUDATA_TAXON_ID = 26718"
   ]
  },
  {
   "cell_type": "code",
   "execution_count": 16,
   "id": "09f0eeda-f8e9-44d2-a775-9b676f43a133",
   "metadata": {},
   "outputs": [],
   "source": [
    "headers = [\n",
    "    'inaturalist_id', 'observed_date', 'observed_month', 'observed_hour', 'observed_week', \n",
    "    'observed_year', 'observed_day', 'species_guess', 'identifications_most_disagree', 'place_ids', \n",
    "    'location', 'endemic', 'native', 'introduced', 'threatened', \n",
    "    'name', 'rank', 'taxon_id', 'wikipedia_url', 'preferred_common_name'\n",
    "]"
   ]
  },
  {
   "cell_type": "code",
   "execution_count": 17,
   "id": "0eeb8fee-a505-4368-a9ae-732eda5567d9",
   "metadata": {
    "tags": []
   },
   "outputs": [
    {
     "name": "stdout",
     "output_type": "stream",
     "text": [
      "200\n",
      "num_pages=64\n",
      "1\n",
      "https://api.inaturalist.org/v1/observations?taxon_id=26718&place_id=46&captive=false&per_page=100&page=1\n",
      "dict_keys(['total_results', 'page', 'per_page', 'results'])\n"
     ]
    }
   ],
   "source": [
    "\n",
    "\n",
    "def query_get_observations(place_id, taxon_id=CAUDATA_TAXON_ID):\n",
    "    \n",
    "    salamander_dict = {k: [] for k in headers}\n",
    "    \n",
    "    params = {\n",
    "    'taxon_id': CAUDATA_TAXON_ID,\n",
    "    'place_id': place_id,\n",
    "    'captive': 'false',\n",
    "    'per_page': 100\n",
    "    }\n",
    "    \n",
    "    request = requests.get(BASE_URL, params=params)\n",
    "    request_json = request.json()\n",
    "    \n",
    "    print(request.status_code)\n",
    "\n",
    "    total_results = request_json['total_results']\n",
    "    results_per_page = request_json['per_page']\n",
    "    num_pages = int(total_results / results_per_page) + 1\n",
    "    print(f'{num_pages=}')\n",
    "    \n",
    "    params['page'] = 0 # add a starting page to the params dict\n",
    "    num_pages = 1 # remove this \n",
    "    for n in range(num_pages):\n",
    "\n",
    "        params['page'] += 1\n",
    "        print(params['page'])\n",
    "\n",
    "        request = requests.get(BASE_URL, params=params)\n",
    "        print(request.url)\n",
    "        print(request.json().keys())\n",
    "        request_json = request.json()['results']\n",
    "        \n",
    "\n",
    "        for r in request_json:\n",
    "            salamander_dict['inaturalist_id'].append(r.get('id'))\n",
    "\n",
    "            observed_on_details = r.get('observed_on_details', {})\n",
    "            # there are times when the 'observed_on_details' key is present, but with a None value\n",
    "            if observed_on_details is None: \n",
    "                observed_on_details = {}\n",
    "\n",
    "            salamander_dict['observed_date'].append(observed_on_details.get('date'))\n",
    "            salamander_dict['observed_month'].append(observed_on_details.get('month'))\n",
    "            salamander_dict['observed_hour'].append(observed_on_details.get('hour'))\n",
    "            salamander_dict['observed_week'].append(observed_on_details.get('week'))\n",
    "            salamander_dict['observed_year'].append(observed_on_details.get('year'))\n",
    "            salamander_dict['observed_day'].append(observed_on_details.get('day'))\n",
    "\n",
    "            salamander_dict['species_guess'].append(r.get('species_guess'))\n",
    "            salamander_dict['identifications_most_disagree'].append(r.get('identifications_most_disagree'))\n",
    "            salamander_dict['place_ids'].append(r.get('place_ids'))\n",
    "            salamander_dict['location'].append(r.get('location'))\n",
    "\n",
    "            taxon = r.get('taxon', {})\n",
    "            salamander_dict['endemic'].append(taxon.get('endemic'))\n",
    "            salamander_dict['native'].append(taxon.get('native'))\n",
    "            salamander_dict['introduced'].append(taxon.get('introduced'))\n",
    "            salamander_dict['threatened'].append(taxon.get('threatened'))\n",
    "            salamander_dict['name'].append(taxon.get('name'))\n",
    "            salamander_dict['rank'].append(taxon.get('rank'))\n",
    "            salamander_dict['taxon_id'].append(taxon.get('id'))\n",
    "            salamander_dict['wikipedia_url'].append(taxon.get('wikipedia_url'))\n",
    "            salamander_dict['preferred_common_name'].append(taxon.get('preferred_common_name'))\n",
    "\n",
    "    return salamander_dict\n",
    "\n",
    "# or_data = query_get_observations(place_id=10)    \n",
    "wa_data = query_get_observations(place_id=46)"
   ]
  },
  {
   "cell_type": "code",
   "execution_count": 17,
   "id": "5a4745c7-2644-4836-b305-459110603bfe",
   "metadata": {},
   "outputs": [
    {
     "data": {
      "text/plain": [
       "inaturalist_id                            int64\n",
       "observed_date                    datetime64[ns]\n",
       "observed_month                          float64\n",
       "observed_hour                           float64\n",
       "observed_week                           float64\n",
       "observed_year                           float64\n",
       "observed_day                            float64\n",
       "species_guess                            object\n",
       "identifications_most_disagree              bool\n",
       "place_ids                                object\n",
       "location                                 object\n",
       "endemic                                    bool\n",
       "native                                     bool\n",
       "introduced                                 bool\n",
       "threatened                                 bool\n",
       "name                                     object\n",
       "rank                                     object\n",
       "taxon_id                                  int64\n",
       "wikipedia_url                            object\n",
       "preferred_common_name                    object\n",
       "dtype: object"
      ]
     },
     "execution_count": 17,
     "metadata": {},
     "output_type": "execute_result"
    }
   ],
   "source": [
    "wa_df = pd.DataFrame(wa_data)\n",
    "wa_df['observed_date'] = pd.to_datetime(wa_df['observed_date'])\n",
    "wa_df.dtypes"
   ]
  },
  {
   "cell_type": "markdown",
   "id": "333c8217-1832-4aeb-a451-b32dd28786f0",
   "metadata": {
    "tags": []
   },
   "source": [
    "# Response Notes:\n",
    "\n",
    "* 'id' = # the iNaturalist ID\n",
    "* 'observed_on_details' =  # a dict with the date, week, month, hour, year, and day\n",
    "* 'location' = 'lat, lon',\n",
    "* 'geojson' = # a dict with the coordinates and the type of observation, e.g. {'coordinates': [lng, lat], 'type': 'type'} \n",
    "\n",
    "* d1 - Must be observed on or after this date\n",
    "* d2 - Must be observed on or before this date\n",
    "\n",
    "# Documentation \n",
    "https://api.inaturalist.org/v1/docs/#/\n",
    "\n",
    "## OBSERVATIONS\n",
    "Given zero to many of following parameters, returns observations matching the search criteria. \n",
    "The large size of the observations index prevents us from supporting the page parameter when retrieving records from large result sets. \n",
    "If you need to retrieve large numbers of records, use the per_page and id_above or id_below parameters instead.\n",
    "https://api.inaturalist.org/v1/docs/#!/Observations/get_observations\n",
    "\n",
    "## TAXA\n",
    "Given an ID, or an array of IDs in comma-delimited format, returns corresponding taxa. A maximum of 30 results will be returned\n",
    "Returns an object with metadata and a results array of taxa\n",
    "https://api.inaturalist.org/v1/taxa/26718\n",
    "\n",
    "## PLACES\n",
    "Given an ID, or an array of IDs in comma-delimited format, returns corresponding places. A maximum of 500 results will be returned\n",
    "Returns an object with metadata and an results array of places\n",
    "https://api.inaturalist.org/v1/places/6712,6883,9853,27591,57637\n",
    "\n"
   ]
  },
  {
   "cell_type": "code",
   "execution_count": 10,
   "id": "8477b447-ff69-4798-9a7e-0e2f4f366d52",
   "metadata": {},
   "outputs": [],
   "source": [
    "from db_connection import ENGINE\n",
    "import pandas as pd\n"
   ]
  },
  {
   "cell_type": "code",
   "execution_count": 11,
   "id": "0fd0891f-63a1-47e8-b646-1b25e9be11f6",
   "metadata": {},
   "outputs": [],
   "source": [
    "max_observed_date = '''\n",
    "    SELECT \n",
    "         MAX(observed_date) as max_observed_date\n",
    "    FROM washington_oregon_salamanders\n",
    "    '''"
   ]
  },
  {
   "cell_type": "code",
   "execution_count": 12,
   "id": "da29565d-03ab-447c-a997-783b6267cf1e",
   "metadata": {},
   "outputs": [
    {
     "name": "stdout",
     "output_type": "stream",
     "text": [
      "Exception Caught: (psycopg2.errors.UndefinedTable) relation \"washington_oregon_salamanders\" does not exist\n",
      "LINE 4:     FROM washington_oregon_salamanders\n",
      "                 ^\n",
      "\n",
      "[SQL: \n",
      "    SELECT \n",
      "         MAX(observed_date) as max_observed_date\n",
      "    FROM washington_oregon_salamanders\n",
      "    ]\n",
      "(Background on this error at: https://sqlalche.me/e/14/f405)\n"
     ]
    }
   ],
   "source": [
    "try:\n",
    "    df = pd.read_sql(\n",
    "            max_observed_date,\n",
    "            con=ENGINE,\n",
    "            index_col=None\n",
    "        )\n",
    "    date_after = df['max_observed_date'][0].strftime('%Y-%m-%d')\n",
    "    \n",
    "except ProgrammingError as pe:\n",
    "    # the table has not been created, so we're starting from \"scratch\"\n",
    "    date_after = None"
   ]
  },
  {
   "cell_type": "code",
   "execution_count": 9,
   "id": "bee90b58-e200-4a46-ac99-b4f86f4216af",
   "metadata": {},
   "outputs": [
    {
     "ename": "NameError",
     "evalue": "name 'e' is not defined",
     "output_type": "error",
     "traceback": [
      "\u001b[0;31m---------------------------------------------------------------------------\u001b[0m",
      "\u001b[0;31mNameError\u001b[0m                                 Traceback (most recent call last)",
      "\u001b[0;32m/var/folders/2v/jk96cd7d15lft_4knrcfwvx80000gn/T/ipykernel_10465/2740565805.py\u001b[0m in \u001b[0;36m<module>\u001b[0;34m\u001b[0m\n\u001b[0;32m----> 1\u001b[0;31m \u001b[0me\u001b[0m\u001b[0;34m\u001b[0m\u001b[0;34m\u001b[0m\u001b[0m\n\u001b[0m",
      "\u001b[0;31mNameError\u001b[0m: name 'e' is not defined"
     ]
    }
   ],
   "source": [
    "e"
   ]
  },
  {
   "cell_type": "code",
   "execution_count": 8,
   "id": "6a099c03-7f2e-4f33-8e75-ddb0d6a899e9",
   "metadata": {},
   "outputs": [
    {
     "data": {
      "text/html": [
       "<div>\n",
       "<style scoped>\n",
       "    .dataframe tbody tr th:only-of-type {\n",
       "        vertical-align: middle;\n",
       "    }\n",
       "\n",
       "    .dataframe tbody tr th {\n",
       "        vertical-align: top;\n",
       "    }\n",
       "\n",
       "    .dataframe thead th {\n",
       "        text-align: right;\n",
       "    }\n",
       "</style>\n",
       "<table border=\"1\" class=\"dataframe\">\n",
       "  <thead>\n",
       "    <tr style=\"text-align: right;\">\n",
       "      <th></th>\n",
       "      <th>max_observed_date</th>\n",
       "    </tr>\n",
       "  </thead>\n",
       "  <tbody>\n",
       "    <tr>\n",
       "      <th>0</th>\n",
       "      <td>2022-12-28</td>\n",
       "    </tr>\n",
       "  </tbody>\n",
       "</table>\n",
       "</div>"
      ],
      "text/plain": [
       "  max_observed_date\n",
       "0        2022-12-28"
      ]
     },
     "execution_count": 8,
     "metadata": {},
     "output_type": "execute_result"
    }
   ],
   "source": [
    "df"
   ]
  },
  {
   "cell_type": "code",
   "execution_count": 17,
   "id": "069f50bd-caec-47ad-a98c-32d3c7565253",
   "metadata": {},
   "outputs": [
    {
     "data": {
      "text/plain": [
       "'2022-12-28'"
      ]
     },
     "execution_count": 17,
     "metadata": {},
     "output_type": "execute_result"
    }
   ],
   "source": [
    "df['max_observed_date'][0].strftime('%Y-%m-%d')"
   ]
  }
 ],
 "metadata": {
  "kernelspec": {
   "display_name": "Python 3 (ipykernel)",
   "language": "python",
   "name": "python3"
  },
  "language_info": {
   "codemirror_mode": {
    "name": "ipython",
    "version": 3
   },
   "file_extension": ".py",
   "mimetype": "text/x-python",
   "name": "python",
   "nbconvert_exporter": "python",
   "pygments_lexer": "ipython3",
   "version": "3.9.7"
  }
 },
 "nbformat": 4,
 "nbformat_minor": 5
}
